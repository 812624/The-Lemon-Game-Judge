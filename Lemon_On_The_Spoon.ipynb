{
 "cells": [
  {
   "cell_type": "markdown",
   "metadata": {},
   "source": [
    "# Lemon Game Judge"
   ]
  },
  {
   "cell_type": "markdown",
   "metadata": {},
   "source": [
    "This project is based on the famous game called \"The Lemon in the Spoon Race\" in which we need to hold the spoon straight in order to keep the lemon from falling off. Detect and track the lemon on the spoon."
   ]
  },
  {
   "cell_type": "markdown",
   "metadata": {},
   "source": [
    "# Algorithm Used"
   ]
  },
  {
   "cell_type": "markdown",
   "metadata": {},
   "source": [
    "Project implements following algorithm:-"
   ]
  },
  {
   "cell_type": "markdown",
   "metadata": {},
   "source": [
    "1). Get the video."
   ]
  },
  {
   "cell_type": "markdown",
   "metadata": {},
   "source": [
    "2). Divide the video into frames and for each frame do step 3-10."
   ]
  },
  {
   "cell_type": "markdown",
   "metadata": {},
   "source": [
    "3). Convert each frame from BGR to HSV."
   ]
  },
  {
   "cell_type": "markdown",
   "metadata": {},
   "source": [
    "4). Mask those objects in the HSV image which are in HSV threshold defined."
   ]
  },
  {
   "cell_type": "markdown",
   "metadata": {},
   "source": [
    "5). Remove noise surrounding the object tracked by morphological algorithm called opening."
   ]
  },
  {
   "cell_type": "markdown",
   "metadata": {},
   "source": [
    "6). Remove noise within the object tracked using closing."
   ]
  },
  {
   "cell_type": "markdown",
   "metadata": {},
   "source": [
    "7). Retrieve number of pixels of finally masked image(img_mask3) whose value if non-zero then we have lemon in the frame, else lemon has fallen."
   ]
  },
  {
   "cell_type": "markdown",
   "metadata": {},
   "source": [
    "8). Get the contours from the frame."
   ]
  },
  {
   "cell_type": "markdown",
   "metadata": {},
   "source": [
    "9). Find the largest contour in the mask, then use it to compute the minimum enclosing circle and centroid."
   ]
  },
  {
   "cell_type": "markdown",
   "metadata": {},
   "source": [
    "10). Display the circle and it's centre on the video frame."
   ]
  },
  {
   "cell_type": "markdown",
   "metadata": {},
   "source": [
    "11). Close all windows."
   ]
  },
  {
   "cell_type": "markdown",
   "metadata": {},
   "source": [
    "\n",
    "# Importing required packages\n"
   ]
  },
  {
   "cell_type": "markdown",
   "metadata": {},
   "source": [
    "We will be requiring numpy array and opencv."
   ]
  },
  {
   "cell_type": "code",
   "execution_count": 1,
   "metadata": {
    "collapsed": true
   },
   "outputs": [],
   "source": [
    "import cv2\n",
    "import numpy as np"
   ]
  },
  {
   "cell_type": "markdown",
   "metadata": {},
   "source": [
    "# HSV color range"
   ]
  },
  {
   "cell_type": "code",
   "execution_count": 2,
   "metadata": {
    "collapsed": true
   },
   "outputs": [],
   "source": [
    "# Define HSV range of lemon color\n",
    "HSV_Lower = np.array([25,100,100])\n",
    "HSV_Upper = np.array([65,255,255])"
   ]
  },
  {
   "cell_type": "code",
   "execution_count": 3,
   "metadata": {
    "collapsed": true
   },
   "outputs": [],
   "source": [
    "# Two kernels to perform morphological operation on video frames( i.e., MASKING)\n",
    "window1 = np.ones((5,5))\n",
    "window2 = np.ones((20,20))"
   ]
  },
  {
   "cell_type": "markdown",
   "metadata": {},
   "source": [
    "# Iterating through the video frames"
   ]
  },
  {
   "cell_type": "markdown",
   "metadata": {},
   "source": [
    "Getting the frames from the video and apply mask on each frame and check the contours for circular shape."
   ]
  },
  {
   "cell_type": "code",
   "execution_count": 4,
   "metadata": {
    "collapsed": true
   },
   "outputs": [],
   "source": [
    "def get_frames(vid):\n",
    "\n",
    "    # Video capture object to acquire webcam feed\n",
    "    cap = cv2.VideoCapture(vid)\n",
    "    \n",
    "    # Will return true if capture is acquired successfully\n",
    "    print(cap.isOpened())\n",
    "    \n",
    "    currentFrame = 0\n",
    "\n",
    "    # Capturing first frame\n",
    "    ret, frame = cap.read()\n",
    "    \n",
    "    # Capturing frames till cap.read() returns true\n",
    "    while(ret):\n",
    "        \n",
    "        # Capture frame-by-frame\n",
    "        ret, frame = cap.read()\n",
    "\n",
    "        # Resize the frame\n",
    "        frame = cv2.resize(frame, (700, 700))\n",
    "\n",
    "        # Convert BGR to HSV\n",
    "        imgHSV = cv2.cvtColor(frame, cv2.COLOR_BGR2HSV)        \n",
    " \n",
    "        # Masking object in HSV lemon color range\n",
    "        img_mask1 = cv2.inRange(imgHSV, HSV_Lower, HSV_Upper)       \n",
    "        \n",
    "        # Removing noise surrounding the object tracked\n",
    "        img_mask2 = cv2.morphologyEx(img_mask1, cv2.MORPH_OPEN, window1)\n",
    "        \n",
    "        # Removing noise within the object tracked\n",
    "        img_mask3 = cv2.morphologyEx(img_mask2, cv2.MORPH_CLOSE, window2)\n",
    "             \n",
    "        \n",
    "        # Retrieve number of pixels of finally masked image\n",
    "        if  cv2.countNonZero(img_mask3) == 0 :\n",
    "                print(\"OOPS!! LEMON DROPPED\")\n",
    "                break\n",
    "        else:\n",
    "            if currentFrame==0 :\n",
    "                print(\"GOOD BALANCE!!\")\n",
    "                \n",
    "            \n",
    "        # To get contours or boundaries of the tracked objects \n",
    "        _, contours, hierarchy = cv2.findContours(img_mask3, cv2.RETR_EXTERNAL, cv2.CHAIN_APPROX_SIMPLE) \n",
    "            \n",
    "        if len(contours) > 0:\n",
    "\n",
    "            # Getting largest contour\n",
    "            c = max(contours, key = cv2.contourArea)\n",
    "            \n",
    "            # Getting minimum enclosing circle\n",
    "            ((x, y), radius) = cv2.minEnclosingCircle(c)\n",
    "            M = cv2.moments(c)\n",
    "            \n",
    "            # Getting centre\n",
    "            center = (int(M[\"m10\"] / M[\"m00\"]), int(M[\"m01\"] / M[\"m00\"]))\n",
    "\n",
    "            # Only proceed if the radius meets a minimum size\n",
    "            if radius > 4:\n",
    "                \n",
    "                # Draw the circle and centroid on the frame,\n",
    "                cv2.circle(frame, (int(x), int(y)), int(radius),\n",
    "                    (0, 255, 255), 2)\n",
    "                \n",
    "                # Update the list of tracked points\n",
    "                cv2.circle(frame, center, 5, (0, 0, 255), -1) \n",
    "                \n",
    "        # Display the masked images on window\n",
    "        cv2.imshow(\"img_mask3\",img_mask3)\n",
    "        cv2.imshow(\"cam\",frame)\n",
    "        cv2.waitKey(10)          \n",
    "\n",
    "        # To stop duplicate images\n",
    "        currentFrame += 1 \n",
    "        \n",
    "    # When everything done, release the capture and close all windows\n",
    "    cap.release\n",
    "    cv2.destroyAllWindows()\n",
    "    "
   ]
  },
  {
   "cell_type": "markdown",
   "metadata": {},
   "source": [
    "# Trying the video"
   ]
  },
  {
   "cell_type": "code",
   "execution_count": 5,
   "metadata": {},
   "outputs": [
    {
     "name": "stdout",
     "output_type": "stream",
     "text": [
      "True\n",
      "GOOD BALANCE!!\n",
      "OOPS!! LEMON DROPPED\n"
     ]
    }
   ],
   "source": [
    "vid  = \"haha.mp4\"\n",
    "get_frames(vid)"
   ]
  }
 ],
 "metadata": {
  "kernelspec": {
   "display_name": "Python 2",
   "language": "python",
   "name": "python2"
  },
  "language_info": {
   "codemirror_mode": {
    "name": "ipython",
    "version": 2
   },
   "file_extension": ".py",
   "mimetype": "text/x-python",
   "name": "python",
   "nbconvert_exporter": "python",
   "pygments_lexer": "ipython2",
   "version": "2.7.13"
  }
 },
 "nbformat": 4,
 "nbformat_minor": 2
}
